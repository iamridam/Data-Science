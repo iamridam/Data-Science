{
  "nbformat": 4,
  "nbformat_minor": 0,
  "metadata": {
    "colab": {
      "name": "Numpy_case_study",
      "provenance": [],
      "collapsed_sections": [],
      "authorship_tag": "ABX9TyO6LPvaNbwaV+z8hU1yBqwL",
      "include_colab_link": true
    },
    "kernelspec": {
      "name": "python3",
      "display_name": "Python 3"
    }
  },
  "cells": [
    {
      "cell_type": "markdown",
      "metadata": {
        "id": "view-in-github",
        "colab_type": "text"
      },
      "source": [
        "<a href=\"https://colab.research.google.com/github/iamridam/Data-Science/blob/master/Numpy_case_study.ipynb\" target=\"_parent\"><img src=\"https://colab.research.google.com/assets/colab-badge.svg\" alt=\"Open In Colab\"/></a>"
      ]
    },
    {
      "cell_type": "code",
      "metadata": {
        "id": "P_mUj4iB3lHr"
      },
      "source": [
        "import numpy as np"
      ],
      "execution_count": null,
      "outputs": []
    },
    {
      "cell_type": "markdown",
      "metadata": {
        "id": "PUWwWiWd4vbi"
      },
      "source": [
        "Case Study"
      ]
    },
    {
      "cell_type": "code",
      "metadata": {
        "id": "M8NQkGuu4_az"
      },
      "source": [
        "cric_data = np.loadtxt('cric_data-200320-181217.tsv',\r\n",
        "                       skiprows=1)"
      ],
      "execution_count": null,
      "outputs": []
    },
    {
      "cell_type": "code",
      "metadata": {
        "colab": {
          "base_uri": "https://localhost:8080/"
        },
        "id": "dpsETGvd5XXa",
        "outputId": "64655e50-11a5-48a0-fc78-a64da47630a4"
      },
      "source": [
        "cric_data.shape"
      ],
      "execution_count": null,
      "outputs": [
        {
          "output_type": "execute_result",
          "data": {
            "text/plain": [
              "(225, 4)"
            ]
          },
          "metadata": {
            "tags": []
          },
          "execution_count": 83
        }
      ]
    },
    {
      "cell_type": "code",
      "metadata": {
        "colab": {
          "base_uri": "https://localhost:8080/"
        },
        "id": "j0Eqd08u5pIO",
        "outputId": "04f3c022-72a3-4ce7-ebbe-e5456311ac42"
      },
      "source": [
        "cric_data = cric_data[ :, [1,2,3]]\r\n",
        "print(cric_data.shape)"
      ],
      "execution_count": null,
      "outputs": [
        {
          "output_type": "stream",
          "text": [
            "(225, 3)\n"
          ],
          "name": "stdout"
        }
      ]
    },
    {
      "cell_type": "code",
      "metadata": {
        "id": "j6fZC-Ki6KNL"
      },
      "source": [
        "sachin = cric_data[ :, 0]\r\n",
        "rahul = cric_data[ :, 1]\r\n",
        "india = cric_data[ :, 2]"
      ],
      "execution_count": null,
      "outputs": []
    },
    {
      "cell_type": "code",
      "metadata": {
        "id": "arJbdvsP6reB"
      },
      "source": [
        "def stats(col):\r\n",
        "  print('Mean', np.mean(col))\r\n",
        "  print('Mean', np.median(col))\r\n",
        "  print('IQR', ((np.percentile(col,75) - np.percentile(col,25))))"
      ],
      "execution_count": null,
      "outputs": []
    },
    {
      "cell_type": "code",
      "metadata": {
        "colab": {
          "base_uri": "https://localhost:8080/"
        },
        "id": "9rmHTa9G8SRT",
        "outputId": "518c1c77-a2ff-4788-ee76-af8d820d6271"
      },
      "source": [
        "stats(sachin)"
      ],
      "execution_count": null,
      "outputs": [
        {
          "output_type": "stream",
          "text": [
            "Mean 39.87555555555556\n",
            "Mean 27.0\n",
            "IQR 57.0\n"
          ],
          "name": "stdout"
        }
      ]
    },
    {
      "cell_type": "code",
      "metadata": {
        "colab": {
          "base_uri": "https://localhost:8080/"
        },
        "id": "535QxpMP8VJS",
        "outputId": "2c94cec3-959e-46dc-c2a5-eecfe7042bd8"
      },
      "source": [
        "# Hiistogram of 10 bins\r\n",
        "np.histogram(sachin)"
      ],
      "execution_count": null,
      "outputs": [
        {
          "output_type": "execute_result",
          "data": {
            "text/plain": [
              "(array([99, 36, 28, 16, 11, 17,  8,  8,  1,  1]),\n",
              " array([  0. ,  18.6,  37.2,  55.8,  74.4,  93. , 111.6, 130.2, 148.8,\n",
              "        167.4, 186. ]))"
            ]
          },
          "metadata": {
            "tags": []
          },
          "execution_count": 88
        }
      ]
    },
    {
      "cell_type": "code",
      "metadata": {
        "colab": {
          "base_uri": "https://localhost:8080/"
        },
        "id": "ozusnhO89Vo8",
        "outputId": "8c100e2c-3605-4460-c8ab-a3ae422d57d6"
      },
      "source": [
        "#Finding mean of Sachin's score groupby 25 matches\r\n",
        "# axis 1 gives sum along the rows\r\n",
        "sachin_25 = sachin.reshape(9,25)\r\n",
        "np.mean(sachin_25, axis = 1)"
      ],
      "execution_count": null,
      "outputs": [
        {
          "output_type": "execute_result",
          "data": {
            "text/plain": [
              "array([33.96, 49.4 , 38.48, 40.16, 39.36, 38.2 , 44.6 , 39.52, 35.2 ])"
            ]
          },
          "metadata": {
            "tags": []
          },
          "execution_count": 89
        }
      ]
    },
    {
      "cell_type": "code",
      "metadata": {
        "colab": {
          "base_uri": "https://localhost:8080/"
        },
        "id": "V1naF9OeEYN1",
        "outputId": "768c8009-1861-4704-da3c-4e67412692b9"
      },
      "source": [
        "# sachin average for score greater than 100\r\n",
        "np.mean(sachin[sachin >= 100])"
      ],
      "execution_count": null,
      "outputs": [
        {
          "output_type": "execute_result",
          "data": {
            "text/plain": [
              "125.0"
            ]
          },
          "metadata": {
            "tags": []
          },
          "execution_count": 90
        }
      ]
    },
    {
      "cell_type": "code",
      "metadata": {
        "colab": {
          "base_uri": "https://localhost:8080/"
        },
        "id": "6EGocxWCGbcg",
        "outputId": "7d3adcee-17b1-4bf7-e76f-b23134b03663"
      },
      "source": [
        "qrs = np.percentile(india, [25,50,75, 100])\r\n",
        "print(qrs)\r\n",
        "print(qrs.shape)"
      ],
      "execution_count": null,
      "outputs": [
        {
          "output_type": "stream",
          "text": [
            "[175. 216. 273. 499.]\n",
            "(4,)\n"
          ],
          "name": "stdout"
        }
      ]
    },
    {
      "cell_type": "code",
      "metadata": {
        "id": "Rduvlt4PPVc6"
      },
      "source": [
        "qrs = qrs.reshape(4,1)"
      ],
      "execution_count": null,
      "outputs": []
    },
    {
      "cell_type": "code",
      "metadata": {
        "colab": {
          "base_uri": "https://localhost:8080/"
        },
        "id": "qR1GNEDjPna1",
        "outputId": "f689c44a-f4c2-4537-f94d-bfa31ebc73c9"
      },
      "source": [
        "qrs.shape"
      ],
      "execution_count": null,
      "outputs": [
        {
          "output_type": "execute_result",
          "data": {
            "text/plain": [
              "(4, 1)"
            ]
          },
          "metadata": {
            "tags": []
          },
          "execution_count": 93
        }
      ]
    },
    {
      "cell_type": "code",
      "metadata": {
        "id": "CSe6i0ZJPqYv"
      },
      "source": [
        "indices = qrs > india"
      ],
      "execution_count": null,
      "outputs": []
    },
    {
      "cell_type": "code",
      "metadata": {
        "colab": {
          "base_uri": "https://localhost:8080/"
        },
        "id": "orm7L7hdS4rO",
        "outputId": "9aad98cf-87f3-4d39-e656-ba83d1c93bc7"
      },
      "source": [
        "indices.shape"
      ],
      "execution_count": null,
      "outputs": [
        {
          "output_type": "execute_result",
          "data": {
            "text/plain": [
              "(4, 225)"
            ]
          },
          "metadata": {
            "tags": []
          },
          "execution_count": 95
        }
      ]
    },
    {
      "cell_type": "code",
      "metadata": {
        "colab": {
          "base_uri": "https://localhost:8080/"
        },
        "id": "ibQY2tuuSE7l",
        "outputId": "2d060831-5286-4152-97a8-ad7df782334c"
      },
      "source": [
        "sachin[indices[0,:]]"
      ],
      "execution_count": null,
      "outputs": [
        {
          "output_type": "execute_result",
          "data": {
            "text/plain": [
              "array([18., 14.,  0., 62., 46., 65.,  0., 39., 48.,  3., 11., 65., 27.,\n",
              "       28.,  3.,  4., 15., 40.,  5.,  8., 89.,  0.,  0.,  1.,  0.,  0.,\n",
              "       81., 13.,  2., 36., 12., 19.,  0.,  6., 35.,  0., 44.,  3., 47.,\n",
              "       17., 35., 33.,  7.,  9.,  2., 11., 17.,  1., 10.,  0., 23.,  1.,\n",
              "        2., 25.,  0.])"
            ]
          },
          "metadata": {
            "tags": []
          },
          "execution_count": 96
        }
      ]
    },
    {
      "cell_type": "code",
      "metadata": {
        "colab": {
          "base_uri": "https://localhost:8080/"
        },
        "id": "yek5rQ-dSjlh",
        "outputId": "73e9049b-a6aa-47da-8e9d-d6996c621bf6"
      },
      "source": [
        "sachin[indices[0]]"
      ],
      "execution_count": null,
      "outputs": [
        {
          "output_type": "execute_result",
          "data": {
            "text/plain": [
              "array([18., 14.,  0., 62., 46., 65.,  0., 39., 48.,  3., 11., 65., 27.,\n",
              "       28.,  3.,  4., 15., 40.,  5.,  8., 89.,  0.,  0.,  1.,  0.,  0.,\n",
              "       81., 13.,  2., 36., 12., 19.,  0.,  6., 35.,  0., 44.,  3., 47.,\n",
              "       17., 35., 33.,  7.,  9.,  2., 11., 17.,  1., 10.,  0., 23.,  1.,\n",
              "        2., 25.,  0.])"
            ]
          },
          "metadata": {
            "tags": []
          },
          "execution_count": 97
        }
      ]
    },
    {
      "cell_type": "code",
      "metadata": {
        "colab": {
          "base_uri": "https://localhost:8080/"
        },
        "id": "I1eOtKkMUOrb",
        "outputId": "7785496d-1d0b-493f-b267-9c6acd120e6e"
      },
      "source": [
        "for i in range(4):\r\n",
        "  print('Sachin mean in %d quartile is %f' % (i, np.mean(sachin[indices[i]])))"
      ],
      "execution_count": null,
      "outputs": [
        {
          "output_type": "stream",
          "text": [
            "Sachin mean in 0 quartile is 19.672727\n",
            "Sachin mean in 1 quartile is 28.180180\n",
            "Sachin mean in 2 quartile is 31.688623\n",
            "Sachin mean in 3 quartile is 39.799107\n"
          ],
          "name": "stdout"
        }
      ]
    },
    {
      "cell_type": "code",
      "metadata": {
        "id": "yyrW2idlUknY"
      },
      "source": [
        "sac_vs_rahul = cric_data[:, 0:2]\r\n",
        "snr = np.argmax(sac_vs_rahul, axis=1)"
      ],
      "execution_count": null,
      "outputs": []
    },
    {
      "cell_type": "code",
      "metadata": {
        "colab": {
          "base_uri": "https://localhost:8080/"
        },
        "id": "FqH5lFlVlCCm",
        "outputId": "8d743eac-74b5-4eca-f529-4e7fc0a105e0"
      },
      "source": [
        "np.where(snr == 0, 'Sachin','Rahul')"
      ],
      "execution_count": null,
      "outputs": [
        {
          "output_type": "execute_result",
          "data": {
            "text/plain": [
              "array(['Sachin', 'Rahul', 'Rahul', 'Sachin', 'Sachin', 'Rahul', 'Rahul',\n",
              "       'Sachin', 'Rahul', 'Sachin', 'Rahul', 'Rahul', 'Rahul', 'Sachin',\n",
              "       'Sachin', 'Rahul', 'Rahul', 'Sachin', 'Rahul', 'Rahul', 'Sachin',\n",
              "       'Rahul', 'Sachin', 'Sachin', 'Rahul', 'Sachin', 'Sachin', 'Sachin',\n",
              "       'Sachin', 'Sachin', 'Sachin', 'Sachin', 'Rahul', 'Rahul', 'Sachin',\n",
              "       'Rahul', 'Rahul', 'Sachin', 'Rahul', 'Sachin', 'Sachin', 'Sachin',\n",
              "       'Sachin', 'Rahul', 'Sachin', 'Rahul', 'Rahul', 'Sachin', 'Rahul',\n",
              "       'Sachin', 'Rahul', 'Rahul', 'Rahul', 'Rahul', 'Sachin', 'Rahul',\n",
              "       'Sachin', 'Sachin', 'Rahul', 'Rahul', 'Rahul', 'Sachin', 'Rahul',\n",
              "       'Sachin', 'Sachin', 'Sachin', 'Sachin', 'Rahul', 'Sachin', 'Rahul',\n",
              "       'Rahul', 'Sachin', 'Sachin', 'Rahul', 'Rahul', 'Sachin', 'Rahul',\n",
              "       'Rahul', 'Sachin', 'Rahul', 'Rahul', 'Rahul', 'Rahul', 'Rahul',\n",
              "       'Rahul', 'Sachin', 'Sachin', 'Sachin', 'Rahul', 'Sachin', 'Sachin',\n",
              "       'Sachin', 'Sachin', 'Sachin', 'Sachin', 'Rahul', 'Rahul', 'Sachin',\n",
              "       'Rahul', 'Sachin', 'Sachin', 'Rahul', 'Rahul', 'Rahul', 'Rahul',\n",
              "       'Sachin', 'Rahul', 'Rahul', 'Sachin', 'Sachin', 'Sachin', 'Sachin',\n",
              "       'Rahul', 'Sachin', 'Rahul', 'Sachin', 'Sachin', 'Sachin', 'Rahul',\n",
              "       'Sachin', 'Rahul', 'Sachin', 'Sachin', 'Sachin', 'Sachin', 'Rahul',\n",
              "       'Sachin', 'Rahul', 'Rahul', 'Sachin', 'Sachin', 'Rahul', 'Sachin',\n",
              "       'Rahul', 'Sachin', 'Sachin', 'Sachin', 'Sachin', 'Sachin',\n",
              "       'Sachin', 'Rahul', 'Rahul', 'Rahul', 'Sachin', 'Sachin', 'Sachin',\n",
              "       'Sachin', 'Rahul', 'Sachin', 'Rahul', 'Sachin', 'Sachin', 'Sachin',\n",
              "       'Sachin', 'Rahul', 'Rahul', 'Rahul', 'Sachin', 'Rahul', 'Sachin',\n",
              "       'Rahul', 'Sachin', 'Rahul', 'Sachin', 'Sachin', 'Rahul', 'Sachin',\n",
              "       'Rahul', 'Rahul', 'Sachin', 'Sachin', 'Rahul', 'Sachin', 'Sachin',\n",
              "       'Sachin', 'Sachin', 'Rahul', 'Sachin', 'Rahul', 'Rahul', 'Sachin',\n",
              "       'Sachin', 'Sachin', 'Sachin', 'Rahul', 'Rahul', 'Rahul', 'Sachin',\n",
              "       'Rahul', 'Rahul', 'Rahul', 'Rahul', 'Sachin', 'Rahul', 'Rahul',\n",
              "       'Sachin', 'Rahul', 'Rahul', 'Sachin', 'Rahul', 'Sachin', 'Sachin',\n",
              "       'Sachin', 'Rahul', 'Sachin', 'Rahul', 'Rahul', 'Rahul', 'Sachin',\n",
              "       'Sachin', 'Sachin', 'Rahul', 'Rahul', 'Sachin', 'Rahul', 'Sachin',\n",
              "       'Rahul', 'Rahul', 'Rahul', 'Rahul', 'Sachin', 'Sachin', 'Rahul',\n",
              "       'Sachin', 'Sachin'], dtype='<U6')"
            ]
          },
          "metadata": {
            "tags": []
          },
          "execution_count": 100
        }
      ]
    },
    {
      "cell_type": "code",
      "metadata": {
        "colab": {
          "base_uri": "https://localhost:8080/"
        },
        "id": "SsSMq62nmJaa",
        "outputId": "ba7ab94c-acd5-4a23-f612-e5b3206ea3f8"
      },
      "source": [
        "x_arr = np.arange(0, 101, 5)\r\n",
        "x_arr.shape"
      ],
      "execution_count": null,
      "outputs": [
        {
          "output_type": "execute_result",
          "data": {
            "text/plain": [
              "(21,)"
            ]
          },
          "metadata": {
            "tags": []
          },
          "execution_count": 104
        }
      ]
    },
    {
      "cell_type": "code",
      "metadata": {
        "colab": {
          "base_uri": "https://localhost:8080/"
        },
        "id": "7uLAxtec7YAH",
        "outputId": "246550f4-f63c-4ac2-cd7d-faabb2d4ac42"
      },
      "source": [
        "x_arr = x_arr.reshape(x_arr.shape[0],1)\r\n",
        "x_arr.shape"
      ],
      "execution_count": null,
      "outputs": [
        {
          "output_type": "execute_result",
          "data": {
            "text/plain": [
              "(21, 1)"
            ]
          },
          "metadata": {
            "tags": []
          },
          "execution_count": 105
        }
      ]
    },
    {
      "cell_type": "code",
      "metadata": {
        "colab": {
          "base_uri": "https://localhost:8080/"
        },
        "id": "hUiy6xhH8Mhy",
        "outputId": "37bff5fc-a3d9-453f-8b11-03cb828c1640"
      },
      "source": [
        "idi = sachin >= x_arr\r\n",
        "idi.shape"
      ],
      "execution_count": null,
      "outputs": [
        {
          "output_type": "execute_result",
          "data": {
            "text/plain": [
              "(21, 225)"
            ]
          },
          "metadata": {
            "tags": []
          },
          "execution_count": 110
        }
      ]
    },
    {
      "cell_type": "code",
      "metadata": {
        "colab": {
          "base_uri": "https://localhost:8080/"
        },
        "id": "fpUg9Glv8jdp",
        "outputId": "57cec7dc-6dd8-479f-f55d-77e556f9e2ae"
      },
      "source": [
        "for i in range(idi.shape[0]):\r\n",
        "  print(x_arr[i, 0], np.mean(sachin[idi[i]])-x_arr[i, 0] )"
      ],
      "execution_count": null,
      "outputs": [
        {
          "output_type": "stream",
          "text": [
            "0 39.87555555555556\n",
            "5 45.61363636363637\n",
            "10 47.48026315789474\n",
            "15 47.45255474452555\n",
            "20 46.824\n",
            "25 44.10084033613445\n",
            "30 45.13461538461539\n",
            "35 43.24742268041237\n",
            "40 44.05882352941177\n",
            "45 43.41558441558442\n",
            "50 43.98529411764706\n",
            "55 42.317460317460316\n",
            "60 38.67213114754098\n",
            "65 37.654545454545456\n",
            "70 37.08163265306122\n",
            "75 34.347826086956516\n",
            "80 30.75\n",
            "85 28.650000000000006\n",
            "90 27.400000000000006\n",
            "95 26.433333333333337\n",
            "100 25.0\n"
          ],
          "name": "stdout"
        }
      ]
    },
    {
      "cell_type": "code",
      "metadata": {
        "id": "vw0_awYH9vyR"
      },
      "source": [
        "sachin_cum_score = np.cumsum(sachin)"
      ],
      "execution_count": null,
      "outputs": []
    },
    {
      "cell_type": "code",
      "metadata": {
        "colab": {
          "base_uri": "https://localhost:8080/"
        },
        "id": "fQ1xgqpd_zWJ",
        "outputId": "75d66253-0172-4aa3-f223-e252be371dee"
      },
      "source": [
        "sachin_cum_score"
      ],
      "execution_count": null,
      "outputs": [
        {
          "output_type": "execute_result",
          "data": {
            "text/plain": [
              "array([ 100.,  111.,  119.,  190.,  294.,  312.,  320.,  406.,  418.,\n",
              "        503.,  521.,  525.,  532.,  569.,  583.,  583.,  587.,  587.,\n",
              "        608.,  609.,  671.,  671.,  809.,  847.,  849.,  895.,  960.,\n",
              "        960.,  999., 1047., 1188., 1250., 1262., 1263., 1304., 1315.,\n",
              "       1318., 1504., 1515., 1542., 1569., 1620., 1638., 1670., 1816.,\n",
              "       1821., 1866., 2007., 2019., 2084., 2111., 2118., 2134., 2136.,\n",
              "       2164., 2170., 2293., 2413., 2420., 2423., 2423., 2504., 2506.,\n",
              "       2560., 2682., 2686., 2700., 2700., 2800., 2815., 2815., 2872.,\n",
              "       2971., 3008., 3046., 3078., 3099., 3131., 3171., 3171., 3176.,\n",
              "       3184., 3189., 3189., 3239., 3269., 3306., 3395., 3399., 3497.,\n",
              "       3580., 3673., 3673., 3725., 3877., 3878., 3886., 3979., 4024.,\n",
              "       4050., 4050., 4051., 4051., 4067., 4114., 4203., 4206., 4207.,\n",
              "       4260., 4276., 4276., 4357., 4371., 4449., 4455., 4560., 4682.,\n",
              "       4691., 4699., 4727., 4762., 4831., 4844., 4941., 5034., 5036.,\n",
              "       5072., 5111., 5113., 5142., 5154., 5173., 5207., 5209., 5309.,\n",
              "       5353., 5435., 5435., 5514., 5520., 5529., 5537., 5560., 5653.,\n",
              "       5688., 5751., 5825., 5833., 5950., 5989., 6038., 6102., 6145.,\n",
              "       6217., 6222., 6239., 6239., 6304., 6324., 6465., 6493., 6537.,\n",
              "       6564., 6624., 6692., 6695., 6834., 6865., 6867., 6911., 6958.,\n",
              "       6964., 6981., 7016., 7104., 7218., 7225., 7352., 7352., 7397.,\n",
              "       7430., 7540., 7686., 7693., 7718., 7727., 7729., 7740., 7757.,\n",
              "       7771., 7772., 7817., 7911., 7939., 7943., 8005., 8006., 8015.,\n",
              "       8082., 8092., 8191., 8246., 8246., 8247., 8348., 8350., 8351.,\n",
              "       8367., 8507., 8530., 8643., 8653., 8654., 8695., 8696., 8724.,\n",
              "       8726., 8748., 8777., 8778., 8803., 8905., 8905., 8932., 8972.])"
            ]
          },
          "metadata": {
            "tags": []
          },
          "execution_count": 120
        }
      ]
    },
    {
      "cell_type": "code",
      "metadata": {
        "colab": {
          "base_uri": "https://localhost:8080/"
        },
        "id": "1DkpGR59_S00",
        "outputId": "7c05f5ba-03f2-41a7-d4e7-f0bd08e091f7"
      },
      "source": [
        "np.histogram(sachin_cum_score, bins=10, range=(0, 10000))"
      ],
      "execution_count": null,
      "outputs": [
        {
          "output_type": "execute_result",
          "data": {
            "text/plain": [
              "(array([29, 18, 26, 25, 26, 26, 23, 22, 30,  0]),\n",
              " array([    0.,  1000.,  2000.,  3000.,  4000.,  5000.,  6000.,  7000.,\n",
              "         8000.,  9000., 10000.]))"
            ]
          },
          "metadata": {
            "tags": []
          },
          "execution_count": 122
        }
      ]
    },
    {
      "cell_type": "code",
      "metadata": {
        "id": "ZLvRldGZAPoL"
      },
      "source": [
        ""
      ],
      "execution_count": null,
      "outputs": []
    }
  ]
}